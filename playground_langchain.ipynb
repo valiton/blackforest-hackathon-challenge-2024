{
 "cells": [
  {
   "cell_type": "markdown",
   "id": "7c52efdf6dd32783",
   "metadata": {},
   "source": [
    "# Black Forest Hackathon 2024 - Challenge\n",
    "\n",
    "This is a Jupyter notebook as a starting point for the Black Forest Hackathon Challenge. You can use this as a boilerplate or you find your way to work with the data. It's totally up to you. \n",
    "\n",
    "Good luck!"
   ]
  },
  {
   "cell_type": "markdown",
   "id": "d125a294af4b8795",
   "metadata": {},
   "source": "## Install dependencies"
  },
  {
   "metadata": {},
   "cell_type": "code",
   "source": [
    "#!pip install python-dotenv\n",
    "#!pip install sqlalchemy pymysql\n",
    "#!pip install pandas\n",
    "#!pip install openai"
   ],
   "id": "d1de384462aa8168",
   "outputs": [],
   "execution_count": null
  },
  {
   "cell_type": "code",
   "id": "2d663fbbaecc84cd",
   "metadata": {
    "ExecuteTime": {
     "end_time": "2024-10-06T17:42:22.245834Z",
     "start_time": "2024-10-06T17:42:19.975569Z"
    }
   },
   "source": [
    "!pip install -r requirements.txt"
   ],
   "outputs": [
    {
     "name": "stdout",
     "output_type": "stream",
     "text": [
      "Requirement already satisfied: python-dotenv in ./.venv/lib/python3.9/site-packages (from -r requirements.txt (line 1)) (1.0.1)\r\n",
      "Requirement already satisfied: sqlalchemy in ./.venv/lib/python3.9/site-packages (from -r requirements.txt (line 2)) (2.0.35)\r\n",
      "Requirement already satisfied: pymysql in ./.venv/lib/python3.9/site-packages (from -r requirements.txt (line 3)) (1.1.1)\r\n",
      "Requirement already satisfied: pandas in ./.venv/lib/python3.9/site-packages (from -r requirements.txt (line 4)) (2.2.3)\r\n",
      "Requirement already satisfied: openai in ./.venv/lib/python3.9/site-packages (from -r requirements.txt (line 5)) (1.51.0)\r\n",
      "Requirement already satisfied: typing-extensions>=4.6.0 in ./.venv/lib/python3.9/site-packages (from sqlalchemy->-r requirements.txt (line 2)) (4.12.2)\r\n",
      "Requirement already satisfied: greenlet!=0.4.17 in ./.venv/lib/python3.9/site-packages (from sqlalchemy->-r requirements.txt (line 2)) (3.1.1)\r\n",
      "Requirement already satisfied: numpy>=1.22.4 in ./.venv/lib/python3.9/site-packages (from pandas->-r requirements.txt (line 4)) (2.0.2)\r\n",
      "Requirement already satisfied: python-dateutil>=2.8.2 in ./.venv/lib/python3.9/site-packages (from pandas->-r requirements.txt (line 4)) (2.9.0.post0)\r\n",
      "Requirement already satisfied: pytz>=2020.1 in ./.venv/lib/python3.9/site-packages (from pandas->-r requirements.txt (line 4)) (2024.2)\r\n",
      "Requirement already satisfied: tzdata>=2022.7 in ./.venv/lib/python3.9/site-packages (from pandas->-r requirements.txt (line 4)) (2024.2)\r\n",
      "Requirement already satisfied: anyio<5,>=3.5.0 in ./.venv/lib/python3.9/site-packages (from openai->-r requirements.txt (line 5)) (4.6.0)\r\n",
      "Requirement already satisfied: distro<2,>=1.7.0 in ./.venv/lib/python3.9/site-packages (from openai->-r requirements.txt (line 5)) (1.9.0)\r\n",
      "Requirement already satisfied: httpx<1,>=0.23.0 in ./.venv/lib/python3.9/site-packages (from openai->-r requirements.txt (line 5)) (0.27.2)\r\n",
      "Requirement already satisfied: jiter<1,>=0.4.0 in ./.venv/lib/python3.9/site-packages (from openai->-r requirements.txt (line 5)) (0.5.0)\r\n",
      "Requirement already satisfied: pydantic<3,>=1.9.0 in ./.venv/lib/python3.9/site-packages (from openai->-r requirements.txt (line 5)) (2.9.2)\r\n",
      "Requirement already satisfied: sniffio in ./.venv/lib/python3.9/site-packages (from openai->-r requirements.txt (line 5)) (1.3.1)\r\n",
      "Requirement already satisfied: tqdm>4 in ./.venv/lib/python3.9/site-packages (from openai->-r requirements.txt (line 5)) (4.66.5)\r\n",
      "Requirement already satisfied: idna>=2.8 in ./.venv/lib/python3.9/site-packages (from anyio<5,>=3.5.0->openai->-r requirements.txt (line 5)) (3.10)\r\n",
      "Requirement already satisfied: exceptiongroup>=1.0.2 in ./.venv/lib/python3.9/site-packages (from anyio<5,>=3.5.0->openai->-r requirements.txt (line 5)) (1.2.2)\r\n",
      "Requirement already satisfied: certifi in ./.venv/lib/python3.9/site-packages (from httpx<1,>=0.23.0->openai->-r requirements.txt (line 5)) (2024.8.30)\r\n",
      "Requirement already satisfied: httpcore==1.* in ./.venv/lib/python3.9/site-packages (from httpx<1,>=0.23.0->openai->-r requirements.txt (line 5)) (1.0.6)\r\n",
      "Requirement already satisfied: h11<0.15,>=0.13 in ./.venv/lib/python3.9/site-packages (from httpcore==1.*->httpx<1,>=0.23.0->openai->-r requirements.txt (line 5)) (0.14.0)\r\n",
      "Requirement already satisfied: annotated-types>=0.6.0 in ./.venv/lib/python3.9/site-packages (from pydantic<3,>=1.9.0->openai->-r requirements.txt (line 5)) (0.7.0)\r\n",
      "Requirement already satisfied: pydantic-core==2.23.4 in ./.venv/lib/python3.9/site-packages (from pydantic<3,>=1.9.0->openai->-r requirements.txt (line 5)) (2.23.4)\r\n",
      "Requirement already satisfied: six>=1.5 in ./.venv/lib/python3.9/site-packages (from python-dateutil>=2.8.2->pandas->-r requirements.txt (line 4)) (1.16.0)\r\n",
      "\r\n",
      "\u001B[1m[\u001B[0m\u001B[34;49mnotice\u001B[0m\u001B[1;39;49m]\u001B[0m\u001B[39;49m A new release of pip is available: \u001B[0m\u001B[31;49m23.2.1\u001B[0m\u001B[39;49m -> \u001B[0m\u001B[32;49m24.2\u001B[0m\r\n",
      "\u001B[1m[\u001B[0m\u001B[34;49mnotice\u001B[0m\u001B[1;39;49m]\u001B[0m\u001B[39;49m To update, run: \u001B[0m\u001B[32;49mpip install --upgrade pip\u001B[0m\r\n"
     ]
    }
   ],
   "execution_count": 1
  },
  {
   "metadata": {
    "ExecuteTime": {
     "end_time": "2024-10-06T17:42:45.991667Z",
     "start_time": "2024-10-06T17:42:25.962319Z"
    }
   },
   "cell_type": "code",
   "source": "!pip install langchain langchain_openai",
   "id": "9024a259695bde04",
   "outputs": [
    {
     "name": "stdout",
     "output_type": "stream",
     "text": [
      "Collecting langchain\r\n",
      "  Obtaining dependency information for langchain from https://files.pythonhosted.org/packages/66/fd/ece1a6db8ccc12b08843b7eeeccf86b6203ef551ef7658872c5882f34126/langchain-0.3.2-py3-none-any.whl.metadata\r\n",
      "  Downloading langchain-0.3.2-py3-none-any.whl.metadata (7.1 kB)\r\n",
      "Collecting langchain_openai\r\n",
      "  Obtaining dependency information for langchain_openai from https://files.pythonhosted.org/packages/b0/4e/c62ce98a5412f031f7f03dda5c35b6ed474e0083986261073ca9da5554d5/langchain_openai-0.2.2-py3-none-any.whl.metadata\r\n",
      "  Downloading langchain_openai-0.2.2-py3-none-any.whl.metadata (2.6 kB)\r\n",
      "Requirement already satisfied: PyYAML>=5.3 in ./.venv/lib/python3.9/site-packages (from langchain) (6.0.2)\r\n",
      "Requirement already satisfied: SQLAlchemy<3,>=1.4 in ./.venv/lib/python3.9/site-packages (from langchain) (2.0.35)\r\n",
      "Collecting aiohttp<4.0.0,>=3.8.3 (from langchain)\r\n",
      "  Obtaining dependency information for aiohttp<4.0.0,>=3.8.3 from https://files.pythonhosted.org/packages/40/58/2cfe2759561e64587538a275292b66008e8f5d6d216da4618125a50668c2/aiohttp-3.10.9-cp39-cp39-macosx_10_9_x86_64.whl.metadata\r\n",
      "  Downloading aiohttp-3.10.9-cp39-cp39-macosx_10_9_x86_64.whl.metadata (7.6 kB)\r\n",
      "Collecting async-timeout<5.0.0,>=4.0.0 (from langchain)\r\n",
      "  Obtaining dependency information for async-timeout<5.0.0,>=4.0.0 from https://files.pythonhosted.org/packages/a7/fa/e01228c2938de91d47b307831c62ab9e4001e747789d0b05baf779a6488c/async_timeout-4.0.3-py3-none-any.whl.metadata\r\n",
      "  Using cached async_timeout-4.0.3-py3-none-any.whl.metadata (4.2 kB)\r\n",
      "Collecting langchain-core<0.4.0,>=0.3.8 (from langchain)\r\n",
      "  Obtaining dependency information for langchain-core<0.4.0,>=0.3.8 from https://files.pythonhosted.org/packages/b3/7a/571f44803cb2bfb02504ee977704d4ad28ba4bc2d532250202c04e1da784/langchain_core-0.3.9-py3-none-any.whl.metadata\r\n",
      "  Downloading langchain_core-0.3.9-py3-none-any.whl.metadata (6.3 kB)\r\n",
      "Collecting langchain-text-splitters<0.4.0,>=0.3.0 (from langchain)\r\n",
      "  Obtaining dependency information for langchain-text-splitters<0.4.0,>=0.3.0 from https://files.pythonhosted.org/packages/da/6a/d1303b722a3fa7a0a8c2f8f5307e42f0bdbded46d99cca436f3db0df5294/langchain_text_splitters-0.3.0-py3-none-any.whl.metadata\r\n",
      "  Downloading langchain_text_splitters-0.3.0-py3-none-any.whl.metadata (2.3 kB)\r\n",
      "Collecting langsmith<0.2.0,>=0.1.17 (from langchain)\r\n",
      "  Obtaining dependency information for langsmith<0.2.0,>=0.1.17 from https://files.pythonhosted.org/packages/87/bd/314a8a1d06d1c576f7246a35eef5ed9322aa6eac8b87095d356bf1a21880/langsmith-0.1.131-py3-none-any.whl.metadata\r\n",
      "  Downloading langsmith-0.1.131-py3-none-any.whl.metadata (13 kB)\r\n",
      "Collecting numpy<2,>=1 (from langchain)\r\n",
      "  Obtaining dependency information for numpy<2,>=1 from https://files.pythonhosted.org/packages/7d/24/ce71dc08f06534269f66e73c04f5709ee024a1afe92a7b6e1d73f158e1f8/numpy-1.26.4-cp39-cp39-macosx_10_9_x86_64.whl.metadata\r\n",
      "  Using cached numpy-1.26.4-cp39-cp39-macosx_10_9_x86_64.whl.metadata (61 kB)\r\n",
      "Requirement already satisfied: pydantic<3.0.0,>=2.7.4 in ./.venv/lib/python3.9/site-packages (from langchain) (2.9.2)\r\n",
      "Requirement already satisfied: requests<3,>=2 in ./.venv/lib/python3.9/site-packages (from langchain) (2.32.3)\r\n",
      "Collecting tenacity!=8.4.0,<9.0.0,>=8.1.0 (from langchain)\r\n",
      "  Obtaining dependency information for tenacity!=8.4.0,<9.0.0,>=8.1.0 from https://files.pythonhosted.org/packages/d2/3f/8ba87d9e287b9d385a02a7114ddcef61b26f86411e121c9003eb509a1773/tenacity-8.5.0-py3-none-any.whl.metadata\r\n",
      "  Downloading tenacity-8.5.0-py3-none-any.whl.metadata (1.2 kB)\r\n",
      "Requirement already satisfied: openai<2.0.0,>=1.40.0 in ./.venv/lib/python3.9/site-packages (from langchain_openai) (1.51.0)\r\n",
      "Collecting tiktoken<1,>=0.7 (from langchain_openai)\r\n",
      "  Obtaining dependency information for tiktoken<1,>=0.7 from https://files.pythonhosted.org/packages/08/f3/8a8ba9329e6b426d822c974d58fc6477f3f7b3b8deef651813d275cbe75f/tiktoken-0.8.0-cp39-cp39-macosx_10_9_x86_64.whl.metadata\r\n",
      "  Downloading tiktoken-0.8.0-cp39-cp39-macosx_10_9_x86_64.whl.metadata (6.6 kB)\r\n",
      "Collecting aiohappyeyeballs>=2.3.0 (from aiohttp<4.0.0,>=3.8.3->langchain)\r\n",
      "  Obtaining dependency information for aiohappyeyeballs>=2.3.0 from https://files.pythonhosted.org/packages/f7/d8/120cd0fe3e8530df0539e71ba9683eade12cae103dd7543e50d15f737917/aiohappyeyeballs-2.4.3-py3-none-any.whl.metadata\r\n",
      "  Downloading aiohappyeyeballs-2.4.3-py3-none-any.whl.metadata (6.1 kB)\r\n",
      "Collecting aiosignal>=1.1.2 (from aiohttp<4.0.0,>=3.8.3->langchain)\r\n",
      "  Obtaining dependency information for aiosignal>=1.1.2 from https://files.pythonhosted.org/packages/76/ac/a7305707cb852b7e16ff80eaf5692309bde30e2b1100a1fcacdc8f731d97/aiosignal-1.3.1-py3-none-any.whl.metadata\r\n",
      "  Using cached aiosignal-1.3.1-py3-none-any.whl.metadata (4.0 kB)\r\n",
      "Requirement already satisfied: attrs>=17.3.0 in ./.venv/lib/python3.9/site-packages (from aiohttp<4.0.0,>=3.8.3->langchain) (24.2.0)\r\n",
      "Collecting frozenlist>=1.1.1 (from aiohttp<4.0.0,>=3.8.3->langchain)\r\n",
      "  Obtaining dependency information for frozenlist>=1.1.1 from https://files.pythonhosted.org/packages/4d/23/7f01123d0e5adcc65cbbde5731378237dea7db467abd19e391f1ddd4130d/frozenlist-1.4.1-cp39-cp39-macosx_10_9_x86_64.whl.metadata\r\n",
      "  Using cached frozenlist-1.4.1-cp39-cp39-macosx_10_9_x86_64.whl.metadata (12 kB)\r\n",
      "Collecting multidict<7.0,>=4.5 (from aiohttp<4.0.0,>=3.8.3->langchain)\r\n",
      "  Obtaining dependency information for multidict<7.0,>=4.5 from https://files.pythonhosted.org/packages/76/f5/79565ddb629eba6c7f704f09a09df085c8dc04643b12506f10f718cee37a/multidict-6.1.0-cp39-cp39-macosx_10_9_x86_64.whl.metadata\r\n",
      "  Downloading multidict-6.1.0-cp39-cp39-macosx_10_9_x86_64.whl.metadata (5.0 kB)\r\n",
      "Collecting yarl<2.0,>=1.12.0 (from aiohttp<4.0.0,>=3.8.3->langchain)\r\n",
      "  Obtaining dependency information for yarl<2.0,>=1.12.0 from https://files.pythonhosted.org/packages/09/40/c8b2bd92f47a263b862b79a865654eef8903a93372bd2a0ea6ee1be5506b/yarl-1.13.1-cp39-cp39-macosx_10_9_x86_64.whl.metadata\r\n",
      "  Downloading yarl-1.13.1-cp39-cp39-macosx_10_9_x86_64.whl.metadata (50 kB)\r\n",
      "\u001B[2K     \u001B[90m━━━━━━━━━━━━━━━━━━━━━━━━━━━━━━━━━━━━━━━\u001B[0m \u001B[32m50.8/50.8 kB\u001B[0m \u001B[31m862.9 kB/s\u001B[0m eta \u001B[36m0:00:00\u001B[0m \u001B[36m0:00:01\u001B[0m\r\n",
      "\u001B[?25hCollecting jsonpatch<2.0,>=1.33 (from langchain-core<0.4.0,>=0.3.8->langchain)\r\n",
      "  Obtaining dependency information for jsonpatch<2.0,>=1.33 from https://files.pythonhosted.org/packages/73/07/02e16ed01e04a374e644b575638ec7987ae846d25ad97bcc9945a3ee4b0e/jsonpatch-1.33-py2.py3-none-any.whl.metadata\r\n",
      "  Using cached jsonpatch-1.33-py2.py3-none-any.whl.metadata (3.0 kB)\r\n",
      "Requirement already satisfied: packaging<25,>=23.2 in ./.venv/lib/python3.9/site-packages (from langchain-core<0.4.0,>=0.3.8->langchain) (24.1)\r\n",
      "Requirement already satisfied: typing-extensions>=4.7 in ./.venv/lib/python3.9/site-packages (from langchain-core<0.4.0,>=0.3.8->langchain) (4.12.2)\r\n",
      "Requirement already satisfied: httpx<1,>=0.23.0 in ./.venv/lib/python3.9/site-packages (from langsmith<0.2.0,>=0.1.17->langchain) (0.27.2)\r\n",
      "Collecting orjson<4.0.0,>=3.9.14 (from langsmith<0.2.0,>=0.1.17->langchain)\r\n",
      "  Obtaining dependency information for orjson<4.0.0,>=3.9.14 from https://files.pythonhosted.org/packages/08/8c/23813894241f920e37ae363aa59a6a0fdb06e90afd60ad89e5a424113d1c/orjson-3.10.7-cp39-cp39-macosx_10_15_x86_64.macosx_11_0_arm64.macosx_10_15_universal2.whl.metadata\r\n",
      "  Downloading orjson-3.10.7-cp39-cp39-macosx_10_15_x86_64.macosx_11_0_arm64.macosx_10_15_universal2.whl.metadata (50 kB)\r\n",
      "\u001B[2K     \u001B[90m━━━━━━━━━━━━━━━━━━━━━━━━━━━━━━━━━━━━━━━━\u001B[0m \u001B[32m50.4/50.4 kB\u001B[0m \u001B[31m1.6 MB/s\u001B[0m eta \u001B[36m0:00:00\u001B[0m\r\n",
      "\u001B[?25hCollecting requests-toolbelt<2.0.0,>=1.0.0 (from langsmith<0.2.0,>=0.1.17->langchain)\r\n",
      "  Obtaining dependency information for requests-toolbelt<2.0.0,>=1.0.0 from https://files.pythonhosted.org/packages/3f/51/d4db610ef29373b879047326cbf6fa98b6c1969d6f6dc423279de2b1be2c/requests_toolbelt-1.0.0-py2.py3-none-any.whl.metadata\r\n",
      "  Downloading requests_toolbelt-1.0.0-py2.py3-none-any.whl.metadata (14 kB)\r\n",
      "Requirement already satisfied: anyio<5,>=3.5.0 in ./.venv/lib/python3.9/site-packages (from openai<2.0.0,>=1.40.0->langchain_openai) (4.6.0)\r\n",
      "Requirement already satisfied: distro<2,>=1.7.0 in ./.venv/lib/python3.9/site-packages (from openai<2.0.0,>=1.40.0->langchain_openai) (1.9.0)\r\n",
      "Requirement already satisfied: jiter<1,>=0.4.0 in ./.venv/lib/python3.9/site-packages (from openai<2.0.0,>=1.40.0->langchain_openai) (0.5.0)\r\n",
      "Requirement already satisfied: sniffio in ./.venv/lib/python3.9/site-packages (from openai<2.0.0,>=1.40.0->langchain_openai) (1.3.1)\r\n",
      "Requirement already satisfied: tqdm>4 in ./.venv/lib/python3.9/site-packages (from openai<2.0.0,>=1.40.0->langchain_openai) (4.66.5)\r\n",
      "Requirement already satisfied: annotated-types>=0.6.0 in ./.venv/lib/python3.9/site-packages (from pydantic<3.0.0,>=2.7.4->langchain) (0.7.0)\r\n",
      "Requirement already satisfied: pydantic-core==2.23.4 in ./.venv/lib/python3.9/site-packages (from pydantic<3.0.0,>=2.7.4->langchain) (2.23.4)\r\n",
      "Requirement already satisfied: charset-normalizer<4,>=2 in ./.venv/lib/python3.9/site-packages (from requests<3,>=2->langchain) (3.3.2)\r\n",
      "Requirement already satisfied: idna<4,>=2.5 in ./.venv/lib/python3.9/site-packages (from requests<3,>=2->langchain) (3.10)\r\n",
      "Requirement already satisfied: urllib3<3,>=1.21.1 in ./.venv/lib/python3.9/site-packages (from requests<3,>=2->langchain) (2.2.3)\r\n",
      "Requirement already satisfied: certifi>=2017.4.17 in ./.venv/lib/python3.9/site-packages (from requests<3,>=2->langchain) (2024.8.30)\r\n",
      "Requirement already satisfied: greenlet!=0.4.17 in ./.venv/lib/python3.9/site-packages (from SQLAlchemy<3,>=1.4->langchain) (3.1.1)\r\n",
      "Collecting regex>=2022.1.18 (from tiktoken<1,>=0.7->langchain_openai)\r\n",
      "  Obtaining dependency information for regex>=2022.1.18 from https://files.pythonhosted.org/packages/a1/b5/449c2f14fc20dc42ef9729469fcff42809393470f021ed6c6fcf5f3d3297/regex-2024.9.11-cp39-cp39-macosx_10_9_x86_64.whl.metadata\r\n",
      "  Downloading regex-2024.9.11-cp39-cp39-macosx_10_9_x86_64.whl.metadata (40 kB)\r\n",
      "\u001B[2K     \u001B[90m━━━━━━━━━━━━━━━━━━━━━━━━━━━━━━━━━━━━━━━━\u001B[0m \u001B[32m40.5/40.5 kB\u001B[0m \u001B[31m1.2 MB/s\u001B[0m eta \u001B[36m0:00:00\u001B[0m\r\n",
      "\u001B[?25hRequirement already satisfied: exceptiongroup>=1.0.2 in ./.venv/lib/python3.9/site-packages (from anyio<5,>=3.5.0->openai<2.0.0,>=1.40.0->langchain_openai) (1.2.2)\r\n",
      "Requirement already satisfied: httpcore==1.* in ./.venv/lib/python3.9/site-packages (from httpx<1,>=0.23.0->langsmith<0.2.0,>=0.1.17->langchain) (1.0.6)\r\n",
      "Requirement already satisfied: h11<0.15,>=0.13 in ./.venv/lib/python3.9/site-packages (from httpcore==1.*->httpx<1,>=0.23.0->langsmith<0.2.0,>=0.1.17->langchain) (0.14.0)\r\n",
      "Requirement already satisfied: jsonpointer>=1.9 in ./.venv/lib/python3.9/site-packages (from jsonpatch<2.0,>=1.33->langchain-core<0.4.0,>=0.3.8->langchain) (3.0.0)\r\n",
      "Downloading langchain-0.3.2-py3-none-any.whl (1.0 MB)\r\n",
      "\u001B[2K   \u001B[90m━━━━━━━━━━━━━━━━━━━━━━━━━━━━━━━━━━━━━━━━\u001B[0m \u001B[32m1.0/1.0 MB\u001B[0m \u001B[31m10.3 MB/s\u001B[0m eta \u001B[36m0:00:00\u001B[0m00:01\u001B[0m00:01\u001B[0m\r\n",
      "\u001B[?25hDownloading langchain_openai-0.2.2-py3-none-any.whl (49 kB)\r\n",
      "\u001B[2K   \u001B[90m━━━━━━━━━━━━━━━━━━━━━━━━━━━━━━━━━━━━━━━━\u001B[0m \u001B[32m49.7/49.7 kB\u001B[0m \u001B[31m1.6 MB/s\u001B[0m eta \u001B[36m0:00:00\u001B[0m\r\n",
      "\u001B[?25hDownloading aiohttp-3.10.9-cp39-cp39-macosx_10_9_x86_64.whl (400 kB)\r\n",
      "\u001B[2K   \u001B[90m━━━━━━━━━━━━━━━━━━━━━━━━━━━━━━━━━━━━━━━━\u001B[0m \u001B[32m400.7/400.7 kB\u001B[0m \u001B[31m14.0 MB/s\u001B[0m eta \u001B[36m0:00:00\u001B[0m\r\n",
      "\u001B[?25hUsing cached async_timeout-4.0.3-py3-none-any.whl (5.7 kB)\r\n",
      "Downloading langchain_core-0.3.9-py3-none-any.whl (401 kB)\r\n",
      "\u001B[2K   \u001B[90m━━━━━━━━━━━━━━━━━━━━━━━━━━━━━━━━━━━━━━━━\u001B[0m \u001B[32m401.8/401.8 kB\u001B[0m \u001B[31m13.6 MB/s\u001B[0m eta \u001B[36m0:00:00\u001B[0m\r\n",
      "\u001B[?25hDownloading langchain_text_splitters-0.3.0-py3-none-any.whl (25 kB)\r\n",
      "Downloading langsmith-0.1.131-py3-none-any.whl (294 kB)\r\n",
      "\u001B[2K   \u001B[90m━━━━━━━━━━━━━━━━━━━━━━━━━━━━━━━━━━━━━━━━\u001B[0m \u001B[32m294.6/294.6 kB\u001B[0m \u001B[31m10.4 MB/s\u001B[0m eta \u001B[36m0:00:00\u001B[0m\r\n",
      "\u001B[?25hUsing cached numpy-1.26.4-cp39-cp39-macosx_10_9_x86_64.whl (20.6 MB)\r\n",
      "Downloading tenacity-8.5.0-py3-none-any.whl (28 kB)\r\n",
      "Downloading tiktoken-0.8.0-cp39-cp39-macosx_10_9_x86_64.whl (1.0 MB)\r\n",
      "\u001B[2K   \u001B[90m━━━━━━━━━━━━━━━━━━━━━━━━━━━━━━━━━━━━━━━━\u001B[0m \u001B[32m1.0/1.0 MB\u001B[0m \u001B[31m25.8 MB/s\u001B[0m eta \u001B[36m0:00:00\u001B[0m:00:01\u001B[0m\r\n",
      "\u001B[?25hDownloading aiohappyeyeballs-2.4.3-py3-none-any.whl (14 kB)\r\n",
      "Using cached aiosignal-1.3.1-py3-none-any.whl (7.6 kB)\r\n",
      "Using cached frozenlist-1.4.1-cp39-cp39-macosx_10_9_x86_64.whl (55 kB)\r\n",
      "Using cached jsonpatch-1.33-py2.py3-none-any.whl (12 kB)\r\n",
      "Downloading multidict-6.1.0-cp39-cp39-macosx_10_9_x86_64.whl (29 kB)\r\n",
      "Downloading orjson-3.10.7-cp39-cp39-macosx_10_15_x86_64.macosx_11_0_arm64.macosx_10_15_universal2.whl (251 kB)\r\n",
      "\u001B[2K   \u001B[90m━━━━━━━━━━━━━━━━━━━━━━━━━━━━━━━━━━━━━━━━\u001B[0m \u001B[32m251.3/251.3 kB\u001B[0m \u001B[31m8.6 MB/s\u001B[0m eta \u001B[36m0:00:00\u001B[0m\r\n",
      "\u001B[?25hDownloading regex-2024.9.11-cp39-cp39-macosx_10_9_x86_64.whl (287 kB)\r\n",
      "\u001B[2K   \u001B[90m━━━━━━━━━━━━━━━━━━━━━━━━━━━━━━━━━━━━━━━━\u001B[0m \u001B[32m287.4/287.4 kB\u001B[0m \u001B[31m10.3 MB/s\u001B[0m eta \u001B[36m0:00:00\u001B[0m\r\n",
      "\u001B[?25hDownloading requests_toolbelt-1.0.0-py2.py3-none-any.whl (54 kB)\r\n",
      "\u001B[2K   \u001B[90m━━━━━━━━━━━━━━━━━━━━━━━━━━━━━━━━━━━━━━━━\u001B[0m \u001B[32m54.5/54.5 kB\u001B[0m \u001B[31m1.9 MB/s\u001B[0m eta \u001B[36m0:00:00\u001B[0m\r\n",
      "\u001B[?25hDownloading yarl-1.13.1-cp39-cp39-macosx_10_9_x86_64.whl (117 kB)\r\n",
      "\u001B[2K   \u001B[90m━━━━━━━━━━━━━━━━━━━━━━━━━━━━━━━━━━━━━━━━\u001B[0m \u001B[32m117.1/117.1 kB\u001B[0m \u001B[31m4.2 MB/s\u001B[0m eta \u001B[36m0:00:00\u001B[0m\r\n",
      "\u001B[?25hInstalling collected packages: tenacity, regex, orjson, numpy, multidict, jsonpatch, frozenlist, async-timeout, aiohappyeyeballs, yarl, tiktoken, requests-toolbelt, aiosignal, langsmith, aiohttp, langchain-core, langchain-text-splitters, langchain_openai, langchain\r\n",
      "  Attempting uninstall: numpy\r\n",
      "    Found existing installation: numpy 2.0.2\r\n",
      "    Uninstalling numpy-2.0.2:\r\n",
      "      Successfully uninstalled numpy-2.0.2\r\n",
      "Successfully installed aiohappyeyeballs-2.4.3 aiohttp-3.10.9 aiosignal-1.3.1 async-timeout-4.0.3 frozenlist-1.4.1 jsonpatch-1.33 langchain-0.3.2 langchain-core-0.3.9 langchain-text-splitters-0.3.0 langchain_openai-0.2.2 langsmith-0.1.131 multidict-6.1.0 numpy-1.26.4 orjson-3.10.7 regex-2024.9.11 requests-toolbelt-1.0.0 tenacity-8.5.0 tiktoken-0.8.0 yarl-1.13.1\r\n",
      "\r\n",
      "\u001B[1m[\u001B[0m\u001B[34;49mnotice\u001B[0m\u001B[1;39;49m]\u001B[0m\u001B[39;49m A new release of pip is available: \u001B[0m\u001B[31;49m23.2.1\u001B[0m\u001B[39;49m -> \u001B[0m\u001B[32;49m24.2\u001B[0m\r\n",
      "\u001B[1m[\u001B[0m\u001B[34;49mnotice\u001B[0m\u001B[1;39;49m]\u001B[0m\u001B[39;49m To update, run: \u001B[0m\u001B[32;49mpip install --upgrade pip\u001B[0m\r\n"
     ]
    }
   ],
   "execution_count": 2
  },
  {
   "metadata": {},
   "cell_type": "markdown",
   "source": [
    "## Setup\n",
    "\n",
    "Frist create and configure a `.env` file. You can use `.env.example` as a template that you can copy.   "
   ],
   "id": "2a6c7f4b3f3ab3f4"
  },
  {
   "metadata": {
    "ExecuteTime": {
     "end_time": "2024-10-06T17:51:33.959075Z",
     "start_time": "2024-10-06T17:51:33.951765Z"
    }
   },
   "cell_type": "code",
   "source": [
    "import os\n",
    "from dotenv import load_dotenv\n",
    "\n",
    "\n",
    "load_dotenv()"
   ],
   "id": "f26f978b4e667a0b",
   "outputs": [
    {
     "data": {
      "text/plain": [
       "True"
      ]
     },
     "execution_count": 6,
     "metadata": {},
     "output_type": "execute_result"
    }
   ],
   "execution_count": 6
  },
  {
   "metadata": {},
   "cell_type": "markdown",
   "source": [
    "### Database (Optional)\n",
    "Make sure that database was started first. You can do this by starting `docker-compose up db`."
   ],
   "id": "a2b63656a19027dd"
  },
  {
   "metadata": {},
   "cell_type": "code",
   "source": [
    "from sqlalchemy import create_engine\n",
    "\n",
    "\n",
    "connection_string = os.getenv(\"DATABASE_URI\")\n",
    "engine = create_engine(connection_string)"
   ],
   "id": "8d0195c695290c83",
   "outputs": [],
   "execution_count": null
  },
  {
   "metadata": {},
   "cell_type": "markdown",
   "source": "## Read Comments",
   "id": "28a67154dbe6b8bb"
  },
  {
   "cell_type": "code",
   "id": "e85503519d5c2bbe",
   "metadata": {},
   "source": [
    "import pandas as pd\n",
    "\n",
    "df = pd.read_csv(\"comments.csv\", encoding='utf-8', sep=',')\n",
    "df.head()"
   ],
   "outputs": [],
   "execution_count": null
  },
  {
   "metadata": {},
   "cell_type": "markdown",
   "source": "## Azure OpenAI",
   "id": "8f1648459e86510a"
  },
  {
   "metadata": {
    "ExecuteTime": {
     "end_time": "2024-10-06T17:57:04.286627Z",
     "start_time": "2024-10-06T17:57:04.252067Z"
    }
   },
   "cell_type": "code",
   "source": [
    "from langchain_openai import AzureChatOpenAI\n",
    "from langchain.chains.llm import LLMChain\n",
    "from langchain_core.prompts import PromptTemplate\n",
    "from langchain.prompts.chat import (\n",
    "    ChatPromptTemplate,\n",
    "    SystemMessagePromptTemplate,\n",
    "    HumanMessagePromptTemplate,\n",
    ")\n",
    "\n",
    "\n",
    "chat_model = AzureChatOpenAI(\n",
    "    deployment_name = os.getenv(\"AZURE_OPENAI_DEPLOYMENT_NAME\"),\n",
    "    azure_endpoint = os.getenv(\"AZURE_OPENAI_ENDPOINT\"),\n",
    "    openai_api_key = os.getenv(\"AZURE_OPENAI_API_KEY\"),  \n",
    "    openai_api_version = \"2024-02-01\",\n",
    "    temperature = 0,\n",
    "    max_tokens = 4096,\n",
    "    top_p = 1,\n",
    "    presence_penalty = 0,\n",
    "    frequency_penalty = 0,\n",
    "    # model_kwargs={\n",
    "    #     \"response_format\": {\n",
    "    #         \"type\": \"json_object\",\n",
    "    #     }\n",
    "    # },\n",
    "    verbose=True,\n",
    "    max_retries=1,\n",
    ")\n"
   ],
   "id": "621bd63e15fa432b",
   "outputs": [],
   "execution_count": 15
  },
  {
   "metadata": {
    "ExecuteTime": {
     "end_time": "2024-10-06T17:57:06.956338Z",
     "start_time": "2024-10-06T17:57:05.978971Z"
    }
   },
   "cell_type": "code",
   "source": [
    "system_message_tpl = \"\"\"\n",
    "Assistant is a large language model trained by OpenAI.\n",
    "\"\"\"\n",
    "\n",
    "human_message_tpl = \"\"\"\n",
    "Who were the founders of {name}?\n",
    "\"\"\"\n",
    "\n",
    "system_message = SystemMessagePromptTemplate.from_template(system_message_tpl)\n",
    "human_message = HumanMessagePromptTemplate.from_template(human_message_tpl)\n",
    "prompt = ChatPromptTemplate.from_messages(\n",
    "    [system_message, human_message]\n",
    ")\n",
    "\n",
    "llm_chain = LLMChain(\n",
    "    prompt=prompt,\n",
    "    llm=chat_model,\n",
    "    verbose=False,\n",
    ")\n",
    "\n",
    "output = llm_chain.invoke(input={\"name\":\"Microsoft\"})\n",
    "print(output['text'])"
   ],
   "id": "52a68ecb4621a289",
   "outputs": [
    {
     "name": "stdout",
     "output_type": "stream",
     "text": [
      "Microsoft was founded by Bill Gates and Paul Allen on April 4, 1975.\n"
     ]
    }
   ],
   "execution_count": 16
  },
  {
   "metadata": {},
   "cell_type": "code",
   "outputs": [],
   "execution_count": null,
   "source": "",
   "id": "9bc6ccc05f003164"
  }
 ],
 "metadata": {
  "kernelspec": {
   "display_name": "Python 3 (ipykernel)",
   "language": "python",
   "name": "python3"
  },
  "language_info": {
   "codemirror_mode": {
    "name": "ipython",
    "version": 3
   },
   "file_extension": ".py",
   "mimetype": "text/x-python",
   "name": "python",
   "nbconvert_exporter": "python",
   "pygments_lexer": "ipython3",
   "version": "3.9.18"
  }
 },
 "nbformat": 4,
 "nbformat_minor": 5
}
