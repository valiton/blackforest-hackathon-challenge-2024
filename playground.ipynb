{
 "cells": [
  {
   "cell_type": "markdown",
   "id": "7c52efdf6dd32783",
   "metadata": {},
   "source": [
    "# Black Forest Hackathon 2024 - Challenge\n",
    "\n",
    "This is a Jupyter notebook as a starting point for the Black Forest Hackathon Challenge. You can use this as a boilerplate or you find your way to work with the data. It's totally up to you. \n",
    "\n",
    "Good luck!"
   ]
  },
  {
   "cell_type": "markdown",
   "id": "d125a294af4b8795",
   "metadata": {},
   "source": "## Install dependencies"
  },
  {
   "metadata": {},
   "cell_type": "code",
   "source": [
    "#!pip install python-dotenv\n",
    "#!pip install sqlalchemy pymysql\n",
    "#!pip install pandas\n",
    "#!pip install openai"
   ],
   "id": "d1de384462aa8168",
   "outputs": [],
   "execution_count": null
  },
  {
   "cell_type": "code",
   "id": "2d663fbbaecc84cd",
   "metadata": {},
   "source": [
    "!pip install -r requirements.txt"
   ],
   "outputs": [],
   "execution_count": null
  },
  {
   "metadata": {},
   "cell_type": "markdown",
   "source": [
    "## Setup\n",
    "\n",
    "Frist create and configure a `.env` file. You can use `.env.example` as a template that you can copy.   "
   ],
   "id": "2a6c7f4b3f3ab3f4"
  },
  {
   "metadata": {},
   "cell_type": "code",
   "source": [
    "from dotenv import load_dotenv\n",
    "\n",
    "\n",
    "load_dotenv()"
   ],
   "id": "f26f978b4e667a0b",
   "outputs": [],
   "execution_count": null
  },
  {
   "metadata": {},
   "cell_type": "markdown",
   "source": [
    "### Database (Optional)\n",
    "Make sure that database was started first. You can do this by starting `docker-compose up db`."
   ],
   "id": "a2b63656a19027dd"
  },
  {
   "metadata": {},
   "cell_type": "code",
   "source": [
    "import os\n",
    "from sqlalchemy import create_engine\n",
    "\n",
    "\n",
    "connection_string = os.getenv(\"DATABASE_URI\")\n",
    "engine = create_engine(connection_string)"
   ],
   "id": "8d0195c695290c83",
   "outputs": [],
   "execution_count": null
  },
  {
   "metadata": {},
   "cell_type": "markdown",
   "source": "## Read Comments",
   "id": "28a67154dbe6b8bb"
  },
  {
   "cell_type": "code",
   "id": "e85503519d5c2bbe",
   "metadata": {},
   "source": [
    "import pandas as pd\n",
    "\n",
    "df = pd.read_csv(\"comments.csv\", encoding='utf-8', sep=',')\n",
    "df.head()"
   ],
   "outputs": [],
   "execution_count": null
  },
  {
   "metadata": {},
   "cell_type": "markdown",
   "source": "## Azure OpenAI",
   "id": "8f1648459e86510a"
  },
  {
   "metadata": {},
   "cell_type": "code",
   "source": [
    "import os\n",
    "from openai import AzureOpenAI\n",
    "\n",
    "\n",
    "client = AzureOpenAI(\n",
    "  api_key = os.getenv(\"AZURE_OPENAI_API_KEY\"),  \n",
    "  api_version = \"2024-02-01\",\n",
    "  azure_endpoint = os.getenv(\"AZURE_OPENAI_ENDPOINT\")\n",
    ")\n",
    "\n",
    "response = client.chat.completions.create(\n",
    "    model=os.getenv(\"AZURE_OPENAI_DEPLOYMENT_NAME\"),\n",
    "    messages=[\n",
    "        {\"role\": \"system\", \"content\": \"Assistant is a large language model trained by OpenAI.\"},\n",
    "        {\"role\": \"user\", \"content\": \"Who were the founders of Microsoft?\"}\n",
    "    ]\n",
    ")\n",
    "\n",
    "#print(response)\n",
    "print(response.model_dump_json(indent=2))\n",
    "print(response.choices[0].message.content)"
   ],
   "id": "621bd63e15fa432b",
   "outputs": [],
   "execution_count": null
  },
  {
   "metadata": {},
   "cell_type": "code",
   "source": "",
   "id": "52a68ecb4621a289",
   "outputs": [],
   "execution_count": null
  }
 ],
 "metadata": {
  "kernelspec": {
   "display_name": "Python 3 (ipykernel)",
   "language": "python",
   "name": "python3"
  },
  "language_info": {
   "codemirror_mode": {
    "name": "ipython",
    "version": 3
   },
   "file_extension": ".py",
   "mimetype": "text/x-python",
   "name": "python",
   "nbconvert_exporter": "python",
   "pygments_lexer": "ipython3",
   "version": "3.9.18"
  }
 },
 "nbformat": 4,
 "nbformat_minor": 5
}
